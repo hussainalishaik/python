{
 "cells": [
  {
   "cell_type": "code",
   "execution_count": 2,
   "id": "478afce2-aa4b-419d-bca9-06a530123d7d",
   "metadata": {},
   "outputs": [
    {
     "name": "stdout",
     "output_type": "stream",
     "text": [
      "[1, 2, 3, 4, 5, 6, 7, 8, 9, 10]\n",
      "1\n",
      "[3, 4, 5]\n",
      "[1, 3, 5, 7, 9]\n",
      "[2, 5, 8]\n",
      "[1, 2, 3, 4, 5, 100, 7, 8, 9, 10]\n",
      "[1, 2, 3, 4, 5, 100, 7, 8, 9, 10, 200]\n",
      "[1, 2, 3, 4, 5, 100, 7, 8, 9, 10, 200, 300]\n",
      "[1, 2, 100, 7, 8, 9, 10, 200, 300]\n"
     ]
    }
   ],
   "source": [
    "num_list=[1,2,3,4,5,6,7,8,9,10]\n",
    "print(num_list)\n",
    "print(num_list[0])\n",
    "print(num_list[2:5])\n",
    "print(num_list[::2])\n",
    "print(num_list[1::3])\n",
    "num_list[5]=100\n",
    "print(num_list)\n",
    "num_list.append(200)\n",
    "\n",
    "print(num_list)\n",
    "num_list.append(300)\n",
    "\n",
    "print(num_list)\n",
    "del num_list[2:5]\n",
    "\n",
    "print(num_list)\n",
    "\n"
   ]
  },
  {
   "cell_type": "code",
   "execution_count": 8,
   "id": "d07fa384-2a73-4d79-86bd-bcd0ff79f1df",
   "metadata": {},
   "outputs": [
    {
     "name": "stdout",
     "output_type": "stream",
     "text": [
      "original list [1, 9, 11, 13, 15]\n",
      "update list [1, 9, 11, [2, 4, 6], 15]\n",
      "update list [1, 9, 44, 11, [2, 4, 6], 15]\n",
      "[1, 100, 9, 44, 11, [2, 4, 6], 15]\n"
     ]
    }
   ],
   "source": [
    "list=[1,9,11,13,15]\n",
    "print(\"original list\",list)\n",
    "list[3]=[2,4,6]\n",
    "print(\"update list\",list)\n",
    "list.insert(2,44)\n",
    "print(\"update list\",list)\n",
    "list.insert(1,100)\n",
    "print(list)\n",
    "\n"
   ]
  },
  {
   "cell_type": "code",
   "execution_count": 14,
   "id": "77c49002-48c0-4cef-b00c-6e52cc1abf94",
   "metadata": {},
   "outputs": [
    {
     "name": "stdout",
     "output_type": "stream",
     "text": [
      "[-33, 4, 10, 13]\n",
      "[13, 10, 4, -33]\n",
      "[13, 10, 4]\n"
     ]
    }
   ],
   "source": [
    "list1=[10,13,4,-33]\n",
    "list1.sort()\n",
    "print(list1)\n",
    "list1.reverse()\n",
    "print(list1)\n",
    "list1.remove(-33)\n",
    "print(list1)"
   ]
  },
  {
   "cell_type": "code",
   "execution_count": 16,
   "id": "ae7f4131-06b2-414b-a09b-9124c290d997",
   "metadata": {},
   "outputs": [
    {
     "ename": "SyntaxError",
     "evalue": "invalid syntax (1008558109.py, line 5)",
     "output_type": "error",
     "traceback": [
      "\u001b[1;36m  Cell \u001b[1;32mIn[16], line 5\u001b[1;36m\u001b[0m\n\u001b[1;33m    a is not in (num)\u001b[0m\n\u001b[1;37m             ^\u001b[0m\n\u001b[1;31mSyntaxError\u001b[0m\u001b[1;31m:\u001b[0m invalid syntax\n"
     ]
    }
   ],
   "source": [
    "num1=[1,2,3,4,5]\n",
    "num2=[6,7,8,9,20]\n",
    "print(num2+num1)\n",
    "num=['a','e','i','o','u']\n",
    "a is not in (num)"
   ]
  },
  {
   "cell_type": "code",
   "execution_count": null,
   "id": "2fe73095-a212-425f-af4e-e630723e705f",
   "metadata": {},
   "outputs": [],
   "source": []
  }
 ],
 "metadata": {
  "kernelspec": {
   "display_name": "Python 3 (ipykernel)",
   "language": "python",
   "name": "python3"
  },
  "language_info": {
   "codemirror_mode": {
    "name": "ipython",
    "version": 3
   },
   "file_extension": ".py",
   "mimetype": "text/x-python",
   "name": "python",
   "nbconvert_exporter": "python",
   "pygments_lexer": "ipython3",
   "version": "3.12.4"
  }
 },
 "nbformat": 4,
 "nbformat_minor": 5
}
