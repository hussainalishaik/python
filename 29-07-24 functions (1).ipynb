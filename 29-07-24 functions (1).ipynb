{
 "cells": [
  {
   "cell_type": "code",
   "execution_count": 16,
   "id": "2c87c10c-dc6f-4584-b90d-d125537ade05",
   "metadata": {},
   "outputs": [
    {
     "ename": "SyntaxError",
     "evalue": "invalid syntax. Perhaps you forgot a comma? (3481902895.py, line 4)",
     "output_type": "error",
     "traceback": [
      "\u001b[1;36m  Cell \u001b[1;32mIn[16], line 4\u001b[1;36m\u001b[0m\n\u001b[1;33m    a=int(input(\"entr the value of a :\")\u001b[0m\n\u001b[1;37m          ^\u001b[0m\n\u001b[1;31mSyntaxError\u001b[0m\u001b[1;31m:\u001b[0m invalid syntax. Perhaps you forgot a comma?\n"
     ]
    }
   ],
   "source": [
    "def total(a,b):\n",
    "    result=a+b\n",
    "    print(\"sum of \",a,\"and\",b,\"is\",result)\n",
    "a=int(input(\"entr the value of a :\")\n",
    "b=int(input(\"entr the value of b :\")\n",
    "total(a,b)\n",
    "      \n"
   ]
  },
  {
   "cell_type": "code",
   "execution_count": 5,
   "id": "66736caa-7f2c-4fdc-879d-513324d47625",
   "metadata": {},
   "outputs": [
    {
     "name": "stdin",
     "output_type": "stream",
     "text": [
      "entr the value of a : 2\n",
      "entr the value of b : 55\n"
     ]
    },
    {
     "name": "stdout",
     "output_type": "stream",
     "text": [
      "sum of  2 and 55 is 57\n"
     ]
    }
   ],
   "source": [
    "def total(a,b):\n",
    "    result=a+b\n",
    "    print(\"sum of \",a,\"and\",b,\"is\",result)\n",
    "a=int(input(\"enter the value of a :\"))\n",
    "b=int(input(\"enter the value of b :\"))\n",
    "total(a,b)\n",
    "      \n"
   ]
  },
  {
   "cell_type": "code",
   "execution_count": 7,
   "id": "0b81670e-c826-4962-a22b-42d2c26738a2",
   "metadata": {},
   "outputs": [
    {
     "name": "stdin",
     "output_type": "stream",
     "text": [
      "enter the value of a : 14\n",
      "enter the value of b : 16\n"
     ]
    },
    {
     "name": "stdout",
     "output_type": "stream",
     "text": [
      "sum of  14 and 16 is 30\n"
     ]
    }
   ],
   "source": [
    "a=int(input(\"enter the value of a :\"))\n",
    "b=int(input(\"enter the value of b :\"))\n",
    "total(a,b)\n",
    "def total(a,b):\n",
    "    result=a+b\n",
    "    print(\"sum of \",a,\"and\",b,\"is\",result)\n",
    "\n",
    "      \n"
   ]
  },
  {
   "cell_type": "code",
   "execution_count": 13,
   "id": "17401ad9-4755-4df6-a36a-7da4b02916ee",
   "metadata": {},
   "outputs": [
    {
     "name": "stdin",
     "output_type": "stream",
     "text": [
      "enter the value of a : 55\n",
      "enter the value of b : 55\n"
     ]
    },
    {
     "name": "stdout",
     "output_type": "stream",
     "text": [
      "0\n"
     ]
    }
   ],
   "source": [
    "def diff(p,q):\n",
    "    return p-q\n",
    "a=int(input(\"enter the value of a :\"))\n",
    "b=int(input(\"enter the value of b :\"))\n",
    "ao=diff\n",
    "print(ao(a,b))\n",
    "\n",
    "    \n"
   ]
  },
  {
   "cell_type": "code",
   "execution_count": 15,
   "id": "b702cdee-2377-4627-a2bd-41ac3f010d31",
   "metadata": {},
   "outputs": [
    {
     "name": "stdout",
     "output_type": "stream",
     "text": [
      "NEC NEC NEC NEC NEC NEC NEC NEC NEC NEC "
     ]
    }
   ],
   "source": [
    "def abc():\n",
    "    for i in range(1,11):\n",
    "        print(\"NEC\",end=' ')\n",
    "abc()\n",
    "    "
   ]
  },
  {
   "cell_type": "code",
   "execution_count": null,
   "id": "ff62f1df-9455-4a8f-b3d4-356d3b55fd43",
   "metadata": {},
   "outputs": [],
   "source": []
  }
 ],
 "metadata": {
  "kernelspec": {
   "display_name": "Python 3 (ipykernel)",
   "language": "python",
   "name": "python3"
  },
  "language_info": {
   "codemirror_mode": {
    "name": "ipython",
    "version": 3
   },
   "file_extension": ".py",
   "mimetype": "text/x-python",
   "name": "python",
   "nbconvert_exporter": "python",
   "pygments_lexer": "ipython3",
   "version": "3.12.4"
  }
 },
 "nbformat": 4,
 "nbformat_minor": 5
}
