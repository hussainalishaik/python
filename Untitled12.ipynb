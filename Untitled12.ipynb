{
 "cells": [
  {
   "cell_type": "code",
   "execution_count": 1,
   "id": "487fc135-5fde-4cf8-985b-1e496cee0678",
   "metadata": {},
   "outputs": [
    {
     "name": "stdout",
     "output_type": "stream",
     "text": [
      "i\n"
     ]
    }
   ],
   "source": [
    "str=\"india\"\n",
    "print(str[3])"
   ]
  },
  {
   "cell_type": "code",
   "execution_count": 3,
   "id": "2fbe3000-83dc-429e-b70f-d9dbad8b5d46",
   "metadata": {},
   "outputs": [
    {
     "name": "stdout",
     "output_type": "stream",
     "text": [
      "*******india********\n",
      "india***************\n",
      "***************india\n"
     ]
    }
   ],
   "source": [
    "str='india'\n",
    "print(str.center(20,'*'))\n",
    "print(str.ljust(20,'*'))\n",
    "print(str.rjust(20,'*'))"
   ]
  },
  {
   "cell_type": "code",
   "execution_count": 5,
   "id": "2b0afa63-7d24-4fc1-a481-4a1cce66485c",
   "metadata": {},
   "outputs": [
    {
     "name": "stdout",
     "output_type": "stream",
     "text": [
      "6\n"
     ]
    }
   ],
   "source": [
    "str=\"he is my best friend\"\n",
    "print(str.index('m',0,len(str)))"
   ]
  },
  {
   "cell_type": "code",
   "execution_count": 7,
   "id": "4066fb69-a1f2-4581-94c1-b6871624c9d3",
   "metadata": {},
   "outputs": [
    {
     "name": "stdout",
     "output_type": "stream",
     "text": [
      "y\n",
      "e\n"
     ]
    },
    {
     "ename": "NameError",
     "evalue": "name 'ee' is not defined",
     "output_type": "error",
     "traceback": [
      "\u001b[1;31m---------------------------------------------------------------------------\u001b[0m",
      "\u001b[1;31mNameError\u001b[0m                                 Traceback (most recent call last)",
      "Cell \u001b[1;32mIn[7], line 4\u001b[0m\n\u001b[0;32m      2\u001b[0m \u001b[38;5;28mprint\u001b[39m(\u001b[38;5;28mmax\u001b[39m(\u001b[38;5;28mstr\u001b[39m))\n\u001b[0;32m      3\u001b[0m \u001b[38;5;28mprint\u001b[39m(\u001b[38;5;28mmin\u001b[39m(\u001b[38;5;28mstr\u001b[39m))\n\u001b[1;32m----> 4\u001b[0m \u001b[38;5;28mprint\u001b[39m(\u001b[38;5;28mstr\u001b[39m\u001b[38;5;241m.\u001b[39mreplace(\u001b[38;5;124m'\u001b[39m\u001b[38;5;124mpy\u001b[39m\u001b[38;5;124m'\u001b[39m,ee))\n",
      "\u001b[1;31mNameError\u001b[0m: name 'ee' is not defined"
     ]
    }
   ],
   "source": [
    "str='jupyter'\n",
    "print(max(str))\n",
    "print(min(str))\n",
    "print(str.replace('py',ee))"
   ]
  },
  {
   "cell_type": "code",
   "execution_count": 8,
   "id": "23fee2de-6811-4635-b39f-a2b08e4df8b1",
   "metadata": {},
   "outputs": [
    {
     "name": "stdout",
     "output_type": "stream",
     "text": [
      "['abc', 'def', 'ghi', 'jkl', 'mno']\n"
     ]
    }
   ],
   "source": [
    "str=\"abc,def,ghi,jkl,mno\"\n",
    "print(str.split(','))"
   ]
  },
  {
   "cell_type": "code",
   "execution_count": 11,
   "id": "5b41cf89-f88a-4663-be3f-3ee256b585f7",
   "metadata": {},
   "outputs": [
    {
     "ename": "NameError",
     "evalue": "name 'join' is not defined",
     "output_type": "error",
     "traceback": [
      "\u001b[1;31m---------------------------------------------------------------------------\u001b[0m",
      "\u001b[1;31mNameError\u001b[0m                                 Traceback (most recent call last)",
      "Cell \u001b[1;32mIn[11], line 2\u001b[0m\n\u001b[0;32m      1\u001b[0m \u001b[38;5;28mstr\u001b[39m\u001b[38;5;241m=\u001b[39m[\u001b[38;5;124m'\u001b[39m\u001b[38;5;124mabc\u001b[39m\u001b[38;5;124m'\u001b[39m,\u001b[38;5;124m'\u001b[39m\u001b[38;5;124mdef\u001b[39m\u001b[38;5;124m'\u001b[39m,\u001b[38;5;124m'\u001b[39m\u001b[38;5;124mghi\u001b[39m\u001b[38;5;124m'\u001b[39m,\u001b[38;5;124m'\u001b[39m\u001b[38;5;124mjkl\u001b[39m\u001b[38;5;124m'\u001b[39m,\u001b[38;5;124m'\u001b[39m\u001b[38;5;124mmno\u001b[39m\u001b[38;5;124m'\u001b[39m]\n\u001b[1;32m----> 2\u001b[0m \u001b[38;5;28mprint\u001b[39m(join(\u001b[38;5;28mstr\u001b[39m))\n",
      "\u001b[1;31mNameError\u001b[0m: name 'join' is not defined"
     ]
    }
   ],
   "source": [
    "str=['abc','def','ghi','jkl','mno']\n",
    "      "
   ]
  },
  {
   "cell_type": "code",
   "execution_count": 13,
   "id": "7241eb48-5292-45fe-967e-de91c9a43df6",
   "metadata": {},
   "outputs": [
    {
     "name": "stdout",
     "output_type": "stream",
     "text": [
      "nohtyp fo noisses eht ot emoclew\n",
      "lcome to\n",
      "wloet\n"
     ]
    }
   ],
   "source": [
    "str=\"welcome to the session of python\"\n",
    "print(str[::-1])\n",
    "print(str[2:10])\n",
    "print(str[:10:2])\n",
    "print(str[::-2])\n",
    "print(str[:10:2])\n"
   ]
  },
  {
   "cell_type": "code",
   "execution_count": null,
   "id": "19efb1cb-30cb-410d-84d9-6619a8bfb15b",
   "metadata": {},
   "outputs": [],
   "source": []
  },
  {
   "cell_type": "code",
   "execution_count": null,
   "id": "49352b47-ab74-47b2-b2e7-dfc147106f9a",
   "metadata": {},
   "outputs": [],
   "source": []
  },
  {
   "cell_type": "code",
   "execution_count": null,
   "id": "19a97750-f0fc-4191-a3cf-78dec684100d",
   "metadata": {},
   "outputs": [],
   "source": []
  },
  {
   "cell_type": "code",
   "execution_count": null,
   "id": "c7351ece-019f-4d25-814a-c986c181856f",
   "metadata": {},
   "outputs": [],
   "source": []
  }
 ],
 "metadata": {
  "kernelspec": {
   "display_name": "Python 3 (ipykernel)",
   "language": "python",
   "name": "python3"
  },
  "language_info": {
   "codemirror_mode": {
    "name": "ipython",
    "version": 3
   },
   "file_extension": ".py",
   "mimetype": "text/x-python",
   "name": "python",
   "nbconvert_exporter": "python",
   "pygments_lexer": "ipython3",
   "version": "3.12.4"
  }
 },
 "nbformat": 4,
 "nbformat_minor": 5
}
