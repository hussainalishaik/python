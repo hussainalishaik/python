{
 "cells": [
  {
   "cell_type": "code",
   "execution_count": 1,
   "id": "28cb38ee-9ca6-4feb-8af8-a0d42965914a",
   "metadata": {},
   "outputs": [
    {
     "name": "stdout",
     "output_type": "stream",
     "text": [
      "* * * * * * * * * * \n",
      "*                 * \n",
      "*                 * \n",
      "*                 * \n",
      "* * * * * * * * * * \n"
     ]
    }
   ],
   "source": [
    "m=5\n",
    "n=10\n",
    "for i in range(1,m+1):\n",
    "    for j in range(1,n+1):\n",
    "        if i==1 or i==m or j==1 or j==n:\n",
    "            print(\"*\", end=' ')\n",
    "        else:\n",
    "            print(\" \",end=\" \")\n",
    "    print()"
   ]
  },
  {
   "cell_type": "code",
   "execution_count": null,
   "id": "a5e06c94-35c8-4e06-a0a9-21a43607523d",
   "metadata": {},
   "outputs": [],
   "source": [
    "+=="
   ]
  }
 ],
 "metadata": {
  "kernelspec": {
   "display_name": "Python 3 (ipykernel)",
   "language": "python",
   "name": "python3"
  },
  "language_info": {
   "codemirror_mode": {
    "name": "ipython",
    "version": 3
   },
   "file_extension": ".py",
   "mimetype": "text/x-python",
   "name": "python",
   "nbconvert_exporter": "python",
   "pygments_lexer": "ipython3",
   "version": "3.12.4"
  }
 },
 "nbformat": 4,
 "nbformat_minor": 5
}
