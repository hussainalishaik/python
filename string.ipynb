{
 "cells": [
  {
   "cell_type": "code",
   "execution_count": 2,
   "id": "d940f154-4e6a-4292-8bc1-ab8caad10dc6",
   "metadata": {},
   "outputs": [
    {
     "name": "stdout",
     "output_type": "stream",
     "text": [
      "text[ 0 ]= m\n",
      "text[ 1 ]= i\n",
      "text[ 2 ]= s\n",
      "text[ 3 ]= s\n",
      "text[ 4 ]= i\n",
      "text[ 5 ]= s\n",
      "text[ 6 ]= s\n",
      "text[ 7 ]= i\n",
      "text[ 8 ]= p\n",
      "text[ 9 ]= p\n",
      "text[ 10 ]= i\n"
     ]
    }
   ],
   "source": [
    "# program to specify index values to the given string\n",
    "text='mississippi'\n",
    "index=0\n",
    "for i in text:\n",
    "    print(\"text[\",index,\"]=\",i)\n",
    "    index+=1\n",
    "\n"
   ]
  },
  {
   "cell_type": "code",
   "execution_count": null,
   "id": "a44e0091-357f-4569-b0c9-788f333bad4c",
   "metadata": {},
   "outputs": [],
   "source": []
  },
  {
   "cell_type": "code",
   "execution_count": null,
   "id": "12f7f390-cd31-4fdf-8217-2b989fb9aaca",
   "metadata": {},
   "outputs": [],
   "source": []
  },
  {
   "cell_type": "code",
   "execution_count": null,
   "id": "b41f78a0-65d9-4ef1-8f7b-55ad9a7a34f0",
   "metadata": {},
   "outputs": [],
   "source": []
  }
 ],
 "metadata": {
  "kernelspec": {
   "display_name": "Python 3 (ipykernel)",
   "language": "python",
   "name": "python3"
  },
  "language_info": {
   "codemirror_mode": {
    "name": "ipython",
    "version": 3
   },
   "file_extension": ".py",
   "mimetype": "text/x-python",
   "name": "python",
   "nbconvert_exporter": "python",
   "pygments_lexer": "ipython3",
   "version": "3.12.4"
  }
 },
 "nbformat": 4,
 "nbformat_minor": 5
}
